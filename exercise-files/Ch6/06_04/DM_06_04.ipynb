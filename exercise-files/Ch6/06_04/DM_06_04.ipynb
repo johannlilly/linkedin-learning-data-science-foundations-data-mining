{
 "cells": [
  {
   "cell_type": "markdown",
   "metadata": {},
   "source": [
    "# DM_06_04\n",
    "## Install and Load Packages\n",
    "\n",
    "We'll use the \"apriori\" package for this demonstration. This package isn't installed with the default Anaconda distribution, so you'll first need to first go to your command line and run this command:\n",
    "\n",
    "    pip install apriori\n",
    "\n",
    "You may need to restart IPython for the new package to show up.\n",
    "\n",
    "Once you've installed apriori, then import it in the standard way."
   ]
  },
  {
   "cell_type": "code",
   "execution_count": 6,
   "metadata": {
    "collapsed": true
   },
   "outputs": [],
   "source": [
    "import apriori"
   ]
  },
  {
   "cell_type": "markdown",
   "metadata": {},
   "source": [
    "## Association Analysis with apriori\n",
    "We'll use the \"groceries.csv\" file that you should have downloaded with this IPython script. We'll set the minimum confidence level to .05."
   ]
  },
  {
   "cell_type": "code",
   "execution_count": 2,
   "metadata": {
    "collapsed": false
   },
   "outputs": [],
   "source": [
    "item_supports, rules = apriori.run_apriori(\"groceries.csv\", min_confidence=0.05)"
   ]
  },
  {
   "cell_type": "markdown",
   "metadata": {},
   "source": [
    "### Support\n",
    "We can check the five items with the highest levels of support in the transaction dataset."
   ]
  },
  {
   "cell_type": "code",
   "execution_count": 3,
   "metadata": {
    "collapsed": false
   },
   "outputs": [
    {
     "output_type": "stream",
     "name": "stdout",
     "text": [
      "whole milk - 0.26\nother vegetables - 0.19\nrolls/buns - 0.18\nsoda - 0.17\nyogurt - 0.14\n"
     ]
    }
   ],
   "source": [
    "for items, support in item_supports[: 5]:\n",
    "    print(\"{0} - {1:.2f}\".format(\", \".join(items), support))"
   ]
  },
  {
   "cell_type": "markdown",
   "metadata": {},
   "source": [
    "The line means that whole milk appears in 26% of the transactions in this dataset.\n",
    "### Confidence\n",
    "We can also check the five items with the highest levels of confidence."
   ]
  },
  {
   "cell_type": "code",
   "execution_count": 4,
   "metadata": {
    "collapsed": false
   },
   "outputs": [
    {
     "output_type": "stream",
     "name": "stdout",
     "text": [
      "yogurt => whole milk - 0.40\nother vegetables => whole milk - 0.39\nrolls/buns => whole milk - 0.31\nwhole milk => other vegetables - 0.29\nwhole milk => rolls/buns - 0.22\n"
     ]
    }
   ],
   "source": [
    "for items, rule in rules[: 5]:\n",
    "    print(\"{0} => {1} - {2:.2f}\".format(\", \".join(items[0]), \", \".join(items[1]), rule))"
   ]
  },
  {
   "cell_type": "markdown",
   "metadata": {},
   "source": [
    "The first line means that of all the baskets with yogurt, 40% also contained whole milk."
   ]
  },
  {
   "cell_type": "code",
   "execution_count": null,
   "metadata": {
    "collapsed": true
   },
   "outputs": [],
   "source": []
  }
 ],
 "metadata": {
  "kernelspec": {
   "name": "python3",
   "display_name": "Python 3.8.3 64-bit ('anaconda3': virtualenv)",
   "metadata": {
    "interpreter": {
     "hash": "78c62bd594015071fc94ec09f8f0c8693d5df646d29fd961f83262230d581249"
    }
   }
  },
  "language_info": {
   "codemirror_mode": {
    "name": "ipython",
    "version": 2
   },
   "file_extension": ".py",
   "mimetype": "text/x-python",
   "name": "python",
   "nbconvert_exporter": "python",
   "pygments_lexer": "ipython2",
   "version": "3.8.3-final"
  }
 },
 "nbformat": 4,
 "nbformat_minor": 0
}